{
 "cells": [
  {
   "cell_type": "code",
   "execution_count": null,
   "id": "542fbec5",
   "metadata": {},
   "outputs": [],
   "source": [
    "\"\"\"1. Create a function to perform basic arithmetic operations that includes addition, subtraction, multiplication and division on a string number (e.g. \"12 + 24\" or \"23 - 21\" or \"12 // 12\" or \"12 * 21\").\n",
    "\n",
    "Here, we have 1 followed by a space, operator followed by another space and 2. For the challenge, we are going to have only two numbers between 1 valid operator. The return value should be a number.\n",
    "\n",
    "eval() is not allowed. In case of division, whenever the second number equals \"0\" return -1.\n",
    "\n",
    "For example:\n",
    "\n",
    "\"15 // 0\"  ➞ -1\n",
    "\n",
    "Examples\n",
    "\n",
    "arithmetic_operation(\"12 + 12\") ➞ 24 // 12 + 12 = 24\n",
    "\n",
    "arithmetic_operation(\"12 - 12\") ➞ 24 // 12 - 12 = 0\n",
    "\n",
    "arithmetic_operation(\"12 * 12\") ➞ 144 // 12 * 12 = 144\n",
    "\n",
    "arithmetic_operation(\"12 // 0\") ➞ -1 // 12 / 0 = -1\n",
    "\"\"\""
   ]
  },
  {
   "cell_type": "code",
   "execution_count": null,
   "id": "bc989fae",
   "metadata": {},
   "outputs": [],
   "source": [
    "\"\"\"2. Write a function that takes the coordinates of three points in the form of a 2d array and returns the perimeter of the triangle. The given points are the vertices of a triangle on a two-dimensional plane.\n",
    "\n",
    "Examples\n",
    "\n",
    "perimeter( [ [15, 7], [5, 22], [11, 1] ] ) ➞ 47.08\n",
    "\n",
    "perimeter( [ [0, 0], [0, 1], [1, 0] ] ) ➞ 3.42\n",
    "\n",
    "perimeter( [ [-10, -10], [10, 10 ], [-10, 10] ] ) ➞ 68.28\n",
    "\"\"\""
   ]
  },
  {
   "cell_type": "code",
   "execution_count": null,
   "id": "efbec213",
   "metadata": {},
   "outputs": [],
   "source": [
    "x=[2,3,7]\n",
    "y=[4,-6,8]\n",
    "def get_area(x,y):\n",
    "    area=0.5*( (x[0]*(y[1]-y[2])) + (x[1]*(y[2]-y[0])) + (x[2]*(y[0]-y[1])) )\n",
    "    return int(area)\n",
    "\n",
    "coords=list(zip(x,y))\n",
    "print(\"Area of points {},{},{} is {}\".format(*coords,get_area(x,y)))"
   ]
  },
  {
   "cell_type": "code",
   "execution_count": null,
   "id": "60697825",
   "metadata": {},
   "outputs": [],
   "source": [
    "\"\"\"3. A city skyline can be represented as a 2-D list with 1s representing buildings. In the example below, the height of the tallest building is 4 (second-most right column).\n",
    "\n",
    "[[0, 0, 0, 0, 0, 0],\n",
    "[0, 0, 0, 0, 1, 0],\n",
    "[0, 0, 1, 0, 1, 0],\n",
    "[0, 1, 1, 1, 1, 0],\n",
    "[1, 1, 1, 1, 1, 1]]\n",
    "\n",
    "Create a function that takes a skyline (2-D list of 0's and 1's) and returns the height of the tallest skyscraper.\n",
    "\"\"\""
   ]
  },
  {
   "cell_type": "code",
   "execution_count": 15,
   "id": "fd5ecf4c",
   "metadata": {},
   "outputs": [
    {
     "name": "stdout",
     "output_type": "stream",
     "text": [
      "3\n"
     ]
    }
   ],
   "source": [
    "mylist=[\n",
    " [0, 0, 0, 0],\n",
    " [0, 1, 0, 0],\n",
    " [0, 1, 1, 0],\n",
    " [1, 1, 1, 1]\n",
    "]\n",
    "xyz = sum(1 for eachlist in mylist if sum(eachlist)>0)\n",
    "print(xyz)\n"
   ]
  },
  {
   "cell_type": "code",
   "execution_count": null,
   "id": "02281596",
   "metadata": {},
   "outputs": [],
   "source": [
    "\"\"\"A financial institution provides professional services to banks and claims charges from the customers based on the number of man-days provided. Internally, it has set a scheme to motivate and reward staff to meet and exceed targeted billable utilization and revenues by paying a bonus for each day claimed from customers in excess of a threshold target.\n",
    "\n",
    "This quarterly scheme is calculated with a threshold target of 32 days per quarter, and the incentive payment for each billable day in excess of such threshold target is shown as follows:\n",
    "\n",
    "Days\t                             Bonus\n",
    "0 to 32 days\t                   Zero\n",
    "33 to 40 days\t         SGD$325 per billable day\n",
    "41 to 48 days\t         SGD$550 per billable day\n",
    "Greater than 48 days      SGD$600 per billable day\n",
    "\n",
    "Please note that incentive payment is calculated progressively. As an example, if an employee reached total billable days of 45 in a quarter, his/her incentive payment is computed as follows:\n",
    "\n",
    "32*0 + 8*325 + 5*550 = 5350\n",
    "\n",
    "Write a function to read the billable days of an employee and return the bonus he/she has obtained in that quarter.\n",
    "\n",
    "\"\"\""
   ]
  },
  {
   "cell_type": "code",
   "execution_count": 17,
   "id": "8c4df35f",
   "metadata": {},
   "outputs": [
    {
     "name": "stdout",
     "output_type": "stream",
     "text": [
      "0\n",
      "1625\n",
      "7000\n"
     ]
    },
    {
     "data": {
      "text/plain": [
       "8200"
      ]
     },
     "execution_count": 17,
     "metadata": {},
     "output_type": "execute_result"
    }
   ],
   "source": [
    "def bonus(days):\n",
    "    if days <= 32:\n",
    "        bonus = 0\n",
    "        return bonus\n",
    "    if days > 32:\n",
    "        if days <= 40:\n",
    "          bonus = (days - 32) * 325\n",
    "          return bonus\n",
    "    if days > 40: \n",
    "        if days <= 48:\n",
    "          bonus = (8 * 325) + (days - 40) * 550\n",
    "          return bonus\n",
    "    if days > 48:\n",
    "        bonus = (8 * 325) + (8 * 550) + (days - 48) * 600 \n",
    "        return bonus\n",
    "print(bonus(15))\n",
    "print(bonus(37))\n",
    "print(bonus(48))\n",
    "bonus(50)"
   ]
  },
  {
   "cell_type": "code",
   "execution_count": null,
   "id": "9b8c0fb1",
   "metadata": {},
   "outputs": [],
   "source": [
    "\"\"\"5. A number is said to be Disarium if the sum of its digits raised to their respective positions is the number itself.\n",
    "\n",
    "Create a function that determines whether a number is a Disarium or not.\n",
    "\"\"\""
   ]
  },
  {
   "cell_type": "code",
   "execution_count": 19,
   "id": "8d62465a",
   "metadata": {},
   "outputs": [
    {
     "name": "stdout",
     "output_type": "stream",
     "text": [
      "175 is a disarium number\n"
     ]
    }
   ],
   "source": [
    "def is_disarium(n):  \n",
    "    length = 0;  \n",
    "    while(n != 0):  \n",
    "        length = length + 1;  \n",
    "        n = n//10;  \n",
    "    return length;  \n",
    "   \n",
    "num = 175;  \n",
    "rem = sum = 0;  \n",
    "len = is_disarium(num);  \n",
    "   \n",
    "n = num;  \n",
    "   \n",
    "while(num > 0):  \n",
    "    rem = num%10;  \n",
    "    sum = sum + int(rem**len);  \n",
    "    num = num//10;  \n",
    "    len = len - 1;  \n",
    "\n",
    "if(sum == n): \n",
    "    print(str(n) + \" is a disarium number\");  \n",
    "else:  \n",
    "    print(str(n) + \" is not a disarium number\");  "
   ]
  },
  {
   "cell_type": "code",
   "execution_count": null,
   "id": "90eab350",
   "metadata": {},
   "outputs": [],
   "source": []
  }
 ],
 "metadata": {
  "kernelspec": {
   "display_name": "Python 3",
   "language": "python",
   "name": "python3"
  },
  "language_info": {
   "codemirror_mode": {
    "name": "ipython",
    "version": 3
   },
   "file_extension": ".py",
   "mimetype": "text/x-python",
   "name": "python",
   "nbconvert_exporter": "python",
   "pygments_lexer": "ipython3",
   "version": "3.8.8"
  }
 },
 "nbformat": 4,
 "nbformat_minor": 5
}
