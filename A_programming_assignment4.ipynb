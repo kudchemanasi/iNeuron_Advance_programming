{
 "cells": [
  {
   "cell_type": "code",
   "execution_count": 1,
   "id": "d96602f2",
   "metadata": {},
   "outputs": [
    {
     "data": {
      "text/plain": [
       "'2. Create a function that takes a strings characters as ASCII and returns each characters hexadecimal value as a string.\\n\\nExamples\\n\\nconvert_to_hex(\"hello world\") ➞ \"68 65 6c 6c 6f 20 77 6f 72 6c 64\"\\n\\nconvert_to_hex(\"Big Boi\") ➞ \"42 69 67 20 42 6f 69\"\\n\\nconvert_to_hex(\"Marty Poppinson\") ➞ \"4d 61 72 74 79 20 50 6f 70 70 69 6e 73 6f 6e\"\\n\\n'"
      ]
     },
     "execution_count": 1,
     "metadata": {},
     "output_type": "execute_result"
    }
   ],
   "source": [
    "\"\"\"2. Create a function that takes a strings characters as ASCII and returns each characters hexadecimal value as a string.\n",
    "\n",
    "Examples\n",
    "\n",
    "convert_to_hex(\"hello world\") ➞ \"68 65 6c 6c 6f 20 77 6f 72 6c 64\"\n",
    "\n",
    "convert_to_hex(\"Big Boi\") ➞ \"42 69 67 20 42 6f 69\"\n",
    "\n",
    "convert_to_hex(\"Marty Poppinson\") ➞ \"4d 61 72 74 79 20 50 6f 70 70 69 6e 73 6f 6e\"\n",
    "\n",
    "\"\"\""
   ]
  },
  {
   "cell_type": "code",
   "execution_count": 2,
   "id": "6be7d323",
   "metadata": {},
   "outputs": [],
   "source": [
    "def convert_to_hex(Str):\n",
    "    ascii_values = []\n",
    "    for character in Str:\n",
    "         ascii_values.append(ord(character))\n",
    "    return ascii_values"
   ]
  },
  {
   "cell_type": "code",
   "execution_count": 3,
   "id": "95d58d69",
   "metadata": {},
   "outputs": [
    {
     "data": {
      "text/plain": [
       "[104, 101, 108, 108, 111, 32, 119, 111, 114, 108, 100]"
      ]
     },
     "execution_count": 3,
     "metadata": {},
     "output_type": "execute_result"
    }
   ],
   "source": [
    "convert_to_hex(\"hello world\")"
   ]
  },
  {
   "cell_type": "code",
   "execution_count": 4,
   "id": "d4e0c22e",
   "metadata": {},
   "outputs": [
    {
     "data": {
      "text/plain": [
       "[66, 105, 103, 32, 66, 111, 105]"
      ]
     },
     "execution_count": 4,
     "metadata": {},
     "output_type": "execute_result"
    }
   ],
   "source": [
    "convert_to_hex(\"Big Boi\")"
   ]
  },
  {
   "cell_type": "code",
   "execution_count": 5,
   "id": "2c2e9485",
   "metadata": {},
   "outputs": [
    {
     "data": {
      "text/plain": [
       "[77, 97, 114, 116, 121, 32, 80, 111, 112, 112, 105, 110, 115, 111, 110]"
      ]
     },
     "execution_count": 5,
     "metadata": {},
     "output_type": "execute_result"
    }
   ],
   "source": [
    "convert_to_hex(\"Marty Poppinson\")"
   ]
  },
  {
   "cell_type": "code",
   "execution_count": 6,
   "id": "3cac5ec5",
   "metadata": {},
   "outputs": [
    {
     "data": {
      "text/plain": [
       "'4. Write a function that takes an IP address and returns the domain name using PTR DNS records.\\n\\nExample\\n\\nget_domain(\"8.8.8.8\") ➞ \"dns.google\"\\n\\nget_domain(\"8.8.4.4\") ➞ \"dns.google\"\\n'"
      ]
     },
     "execution_count": 6,
     "metadata": {},
     "output_type": "execute_result"
    }
   ],
   "source": [
    "\"\"\"4. Write a function that takes an IP address and returns the domain name using PTR DNS records.\n",
    "\n",
    "Example\n",
    "\n",
    "get_domain(\"8.8.8.8\") ➞ \"dns.google\"\n",
    "\n",
    "get_domain(\"8.8.4.4\") ➞ \"dns.google\"\n",
    "\"\"\""
   ]
  },
  {
   "cell_type": "code",
   "execution_count": 7,
   "id": "ef1a4635",
   "metadata": {},
   "outputs": [
    {
     "name": "stdout",
     "output_type": "stream",
     "text": [
      "Domain name using PTR DNS:\n"
     ]
    }
   ],
   "source": [
    "import socket\n",
    "def get_domain_name(ip_address):\n",
    "    result=socket.gethostbyaddr(ip_address)\n",
    "    return list(result)[0]\n",
    "print(\"Domain name using PTR DNS:\")\n",
    "\n"
   ]
  },
  {
   "cell_type": "code",
   "execution_count": 8,
   "id": "65ce8a27",
   "metadata": {},
   "outputs": [
    {
     "name": "stdout",
     "output_type": "stream",
     "text": [
      "dns.google\n"
     ]
    }
   ],
   "source": [
    "print(get_domain_name(\"8.8.8.8\"))"
   ]
  },
  {
   "cell_type": "code",
   "execution_count": 9,
   "id": "a5bfe763",
   "metadata": {},
   "outputs": [
    {
     "name": "stdout",
     "output_type": "stream",
     "text": [
      "dns.google\n"
     ]
    }
   ],
   "source": [
    "print(get_domain_name(\"8.8.4.4\"))"
   ]
  },
  {
   "cell_type": "code",
   "execution_count": 10,
   "id": "d16af046",
   "metadata": {},
   "outputs": [
    {
     "data": {
      "text/plain": [
       "'5. Create a function that takes an integer n and returns the factorial of factorials. See below examples for a better understanding:\\n\\nExamples\\n\\nfact_of_fact(4) ➞ 288\\n# 4! * 3! * 2! * 1! = 288\\n\\nfact_of_fact(5) ➞ 34560\\n\\nfact_of_fact(6) ➞ 24883200\\n'"
      ]
     },
     "execution_count": 10,
     "metadata": {},
     "output_type": "execute_result"
    }
   ],
   "source": [
    "\"\"\"5. Create a function that takes an integer n and returns the factorial of factorials. See below examples for a better understanding:\n",
    "\n",
    "Examples\n",
    "\n",
    "fact_of_fact(4) ➞ 288\n",
    "# 4! * 3! * 2! * 1! = 288\n",
    "\n",
    "fact_of_fact(5) ➞ 34560\n",
    "\n",
    "fact_of_fact(6) ➞ 24883200\n",
    "\"\"\""
   ]
  },
  {
   "cell_type": "code",
   "execution_count": 11,
   "id": "c9c8f847",
   "metadata": {},
   "outputs": [],
   "source": [
    "def fact_of_fact(num):\n",
    "    fact = 1\n",
    "    if (num<0):\n",
    "        print(\"No Factorical\")\n",
    "    elif (num==0):\n",
    "        print(\"Factorical is 1\")\n",
    "    else:\n",
    "        for i in range(1,num):\n",
    "            fact = num*fact_of_fact(num-1)\n",
    "        return fact\n",
    "    \n"
   ]
  },
  {
   "cell_type": "code",
   "execution_count": 12,
   "id": "d00db7d4",
   "metadata": {
    "scrolled": true
   },
   "outputs": [
    {
     "data": {
      "text/plain": [
       "24"
      ]
     },
     "execution_count": 12,
     "metadata": {},
     "output_type": "execute_result"
    }
   ],
   "source": [
    "fact_of_fact(4)"
   ]
  },
  {
   "cell_type": "code",
   "execution_count": 13,
   "id": "55d7a888",
   "metadata": {},
   "outputs": [
    {
     "data": {
      "text/plain": [
       "120"
      ]
     },
     "execution_count": 13,
     "metadata": {},
     "output_type": "execute_result"
    }
   ],
   "source": [
    "fact_of_fact(5)"
   ]
  },
  {
   "cell_type": "code",
   "execution_count": 14,
   "id": "768bf27c",
   "metadata": {},
   "outputs": [
    {
     "data": {
      "text/plain": [
       "'Example\\n\\nuncensor(\"Wh*r* d*d my v*w*ls g*?\", \"eeioeo\") ➞ \"Where did my vowels go?\"\\n\\nuncensor(\"abcd\", \"\") ➞ \"abcd\"\\n\\nuncensor(\"*PP*RC*S*\", \"UEAE\") ➞ \"UPPERCASE\"\\n'"
      ]
     },
     "execution_count": 14,
     "metadata": {},
     "output_type": "execute_result"
    }
   ],
   "source": [
    "\"\"\"Example\n",
    "\n",
    "uncensor(\"Wh*r* d*d my v*w*ls g*?\", \"eeioeo\") ➞ \"Where did my vowels go?\"\n",
    "\n",
    "uncensor(\"abcd\", \"\") ➞ \"abcd\"\n",
    "\n",
    "uncensor(\"*PP*RC*S*\", \"UEAE\") ➞ \"UPPERCASE\"\n",
    "\"\"\""
   ]
  },
  {
   "cell_type": "code",
   "execution_count": 15,
   "id": "2483f7e8",
   "metadata": {},
   "outputs": [
    {
     "data": {
      "text/plain": [
       "'In mathematics, the Fibonacci numbers, commonly denoted Fn, form a sequence, called the Fibonacci sequence, such that each number is the sum of the two preceding ones, starting from 0 and 1:\\n\\nThe beginning of the sequence is this:\\n\\n0, 1, 1, 2, 3, 5, 8, 13, 21, 34, 55, 89, 144, ...\\n\\nThe function fastFib(num) returns the fibonacci number Fn, of the given num as an argument.\\n\\nExamples\\n\\nfib_fast(5) ➞ 5\\n\\nfib_fast(10) ➞ 55\\n\\nfib_fast(20) ➞ 6765\\n\\nfib_fast(50) ➞ 12586269025\\n'"
      ]
     },
     "execution_count": 15,
     "metadata": {},
     "output_type": "execute_result"
    }
   ],
   "source": [
    "\"\"\"In mathematics, the Fibonacci numbers, commonly denoted Fn, form a sequence, called the Fibonacci sequence, such that each number is the sum of the two preceding ones, starting from 0 and 1:\n",
    "\n",
    "The beginning of the sequence is this:\n",
    "\n",
    "0, 1, 1, 2, 3, 5, 8, 13, 21, 34, 55, 89, 144, ...\n",
    "\n",
    "The function fastFib(num) returns the fibonacci number Fn, of the given num as an argument.\n",
    "\n",
    "Examples\n",
    "\n",
    "fib_fast(5) ➞ 5\n",
    "\n",
    "fib_fast(10) ➞ 55\n",
    "\n",
    "fib_fast(20) ➞ 6765\n",
    "\n",
    "fib_fast(50) ➞ 12586269025\n",
    "\"\"\""
   ]
  },
  {
   "cell_type": "code",
   "execution_count": 16,
   "id": "572e2b92",
   "metadata": {},
   "outputs": [
    {
     "name": "stdout",
     "output_type": "stream",
     "text": [
      "34\n"
     ]
    }
   ],
   "source": [
    "def fibonacci(n, second_last, last):\n",
    "    if (n-1) == 0:\n",
    "        return second_last\n",
    "    else:\n",
    "        new_last = second_last + last\n",
    "        second_last = last\n",
    "        return fibonacci(n-1, second_last, new_last)\n",
    " \n",
    " \n",
    "if __name__ == \"__main__\":\n",
    "    print(fibonacci(10, 0, 1))\n",
    "  "
   ]
  },
  {
   "cell_type": "code",
   "execution_count": null,
   "id": "a32297ba",
   "metadata": {},
   "outputs": [],
   "source": []
  },
  {
   "cell_type": "code",
   "execution_count": null,
   "id": "b594ef89",
   "metadata": {},
   "outputs": [],
   "source": []
  }
 ],
 "metadata": {
  "kernelspec": {
   "display_name": "Python 3",
   "language": "python",
   "name": "python3"
  },
  "language_info": {
   "codemirror_mode": {
    "name": "ipython",
    "version": 3
   },
   "file_extension": ".py",
   "mimetype": "text/x-python",
   "name": "python",
   "nbconvert_exporter": "python",
   "pygments_lexer": "ipython3",
   "version": "3.8.8"
  }
 },
 "nbformat": 4,
 "nbformat_minor": 5
}
